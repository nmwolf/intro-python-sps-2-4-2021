{
 "cells": [
  {
   "cell_type": "markdown",
   "metadata": {
    "colab_type": "text",
    "id": "r2sygNV1OvMd"
   },
   "source": [
    "<img align=\"right\" width=\"300\" src=\"https://data-services.hosting.nyu.edu/assets/libraries_short_color.png\" alt=\"NYU Libraries Logo\">\n",
    "\n",
    "# Intro to Python\n",
    "\n",
    "**Nicholas Wolf**<br/>\n",
    "\n",
    "[NYU Data Services](https://guides.nyu.edu/dataservices)\n",
    "\n",
    "[ORCID 0000-0001-5512-6151](https://orcid.org/0000-0001-5512-6151)"
   ]
  },
  {
   "cell_type": "markdown",
   "metadata": {
    "colab_type": "text",
    "id": "cwH4xndwO2FD"
   },
   "source": [
    "Why Python?\n",
    "\n",
    " - Multi- mult-use language (data munging, data analysis, application programming, server-side web programming, big data, little data)\n",
    " - Using scripts differentiates input data from output calculations; makes visible workflows; allows for infinitely adjustable data process steps; prevents \"hiding\" calculations (as in an Excel function)\n",
    " - Extensible for any analytical step desired, constraints are minimal\n",
    " - Open source, no cost\n",
    " - Bettet for scale, e.g. size limitations are only those of computational environment, not software\n"
   ]
  },
  {
   "cell_type": "markdown",
   "metadata": {
    "colab_type": "text",
    "id": "HIaRqn7POvMq"
   },
   "source": [
    "## Python Environment\n",
    "\n",
    "Programming in Python can look like many things. Often times, it is interacted with as a command line interface (sometimes also referred to as a \"console\", a \"Python shell\", a \"REPL\"). Other times, people use it in an iPython or Jupyter notebook (that's what this document is), which allows users to selectively execute written code.\n",
    "\n",
    "There are also other more sophisticated python development environments, such as [PyCharm](https://upload.wikimedia.org/wikipedia/commons/0/05/PyCharm_4.5.1.png)\n",
    "\n",
    "In general, a Python environment listens for user input, evaluates that input, and returns whatever the result is.\n",
    "\n"
   ]
  },
  {
   "cell_type": "markdown",
   "metadata": {},
   "source": [
    "## Jupyter Notebooks\n",
    "\n",
    "Here, we use one kind of environment, Jupyter Notebook, a web-based interface built around code cells (= code blocks) that can be run independently but which preserve all code outcomes as though one long script.\n",
    "\n",
    "Great for:\n",
    "\n",
    " - Fine-tuning and re-running workflows that transform or analyze data\n",
    " - Producing code that \"tells a story\"\n",
    " - Presenting code with images, multimedia, and visualizations for easier readabilty by an audience\n",
    " - Porting long lines of code in one file to other users for re-running (good for sharing code)\n",
    " \n",
    "Examples\n",
    "\n",
    " - [Reinhart-Rogoff Replication](https://nbviewer.jupyter.org/github/vincentarelbundock/Reinhart-Rogoff/blob/master/reinhart-rogoff.ipynb)\n",
    " - [Simple Pandas example re: calculating one's earnings][(https://nbviewer.jupyter.org/github/Tanu-N-Prabhu/Python/blob/master/Manipulating_the_data_with_Pandas_using_Python.ipynb)\n",
    " - [Advanced example showing Pandsa and visuals](https://nbviewer.jupyter.org/gist/twiecki/3962843)\n",
    " \n",
    "\n",
    "Try running the code blocks below (click on one and press Shift-Enter). The line that appears below the block is what is returned as a result of running that code."
   ]
  },
  {
   "cell_type": "code",
   "execution_count": null,
   "metadata": {
    "colab": {},
    "colab_type": "code",
    "id": "pOLO5jp7OvMh"
   },
   "outputs": [],
   "source": [
    "print(\"Hello world!\")"
   ]
  },
  {
   "cell_type": "code",
   "execution_count": null,
   "metadata": {
    "colab": {},
    "colab_type": "code",
    "id": "aruauKa0OvMm"
   },
   "outputs": [],
   "source": [
    "## Addition\n",
    "\n",
    "3 + 4 "
   ]
  },
  {
   "cell_type": "code",
   "execution_count": null,
   "metadata": {
    "colab": {},
    "colab_type": "code",
    "id": "bAiIvbMCQOag"
   },
   "outputs": [],
   "source": [
    "## An exponent operation \n",
    "\n",
    "5**2"
   ]
  },
  {
   "cell_type": "code",
   "execution_count": null,
   "metadata": {
    "colab": {},
    "colab_type": "code",
    "id": "9VClfZn8QcRC"
   },
   "outputs": [],
   "source": [
    "## Decimal/\"floating point\" division\n",
    "\n",
    "5/6"
   ]
  },
  {
   "cell_type": "code",
   "execution_count": null,
   "metadata": {
    "colab": {},
    "colab_type": "code",
    "id": "rxmX0RN84Ik6"
   },
   "outputs": [],
   "source": [
    "## Integer division (note the difference compared to above!)\n",
    "\n",
    "5//6"
   ]
  },
  {
   "cell_type": "code",
   "execution_count": null,
   "metadata": {
    "colab": {},
    "colab_type": "code",
    "id": "v_Z35rSQ61LT"
   },
   "outputs": [],
   "source": [
    "## Boolean\n",
    "\n",
    "True "
   ]
  },
  {
   "cell_type": "code",
   "execution_count": null,
   "metadata": {
    "colab": {},
    "colab_type": "code",
    "id": "xJjDP3wa66E1"
   },
   "outputs": [],
   "source": [
    "## Negating a Boolean\n",
    "\n",
    "not False"
   ]
  },
  {
   "cell_type": "markdown",
   "metadata": {
    "colab_type": "text",
    "id": "50HMQVdZOvMq"
   },
   "source": [
    "Our inputs to Python can roughly be categorized as either **commands** (i.e., requests to do something), or **definitions**"
   ]
  },
  {
   "cell_type": "code",
   "execution_count": null,
   "metadata": {
    "colab": {},
    "colab_type": "code",
    "id": "f3zNPJvzOvMr"
   },
   "outputs": [],
   "source": [
    "## Two commands\n",
    "\n",
    "print(4 + 7)"
   ]
  },
  {
   "cell_type": "code",
   "execution_count": null,
   "metadata": {
    "colab": {},
    "colab_type": "code",
    "id": "gELd99nzOvMu"
   },
   "outputs": [],
   "source": [
    "## Defining a variable\n",
    "\n",
    "my_location = \"New York University\""
   ]
  },
  {
   "cell_type": "code",
   "execution_count": null,
   "metadata": {
    "colab": {},
    "colab_type": "code",
    "id": "drkCFJxWOvMw"
   },
   "outputs": [],
   "source": [
    "## Combining them!\n",
    "\n",
    "print(my_location)"
   ]
  },
  {
   "cell_type": "markdown",
   "metadata": {
    "colab_type": "text",
    "id": "8KnR-6NKFlBm"
   },
   "source": [
    "Side note: Jupyter notebooks automatically print the last result:"
   ]
  },
  {
   "cell_type": "code",
   "execution_count": null,
   "metadata": {
    "colab": {},
    "colab_type": "code",
    "id": "K_b3UwdgFzqF"
   },
   "outputs": [],
   "source": [
    "4+5\n",
    "2+3"
   ]
  },
  {
   "cell_type": "markdown",
   "metadata": {
    "colab_type": "text",
    "id": "-u2MHh2KOvMz"
   },
   "source": [
    "## Introduction to Data Types\n"
   ]
  },
  {
   "cell_type": "markdown",
   "metadata": {
    "colab_type": "text",
    "id": "NjviyUG_OvMz"
   },
   "source": [
    "Let's focus on **variable definitions** for a moment.\n",
    "\n",
    "One of the most common things you will be doing is defining the data\n",
    "that you will be using in the course of programming"
   ]
  },
  {
   "cell_type": "code",
   "execution_count": null,
   "metadata": {
    "colab": {},
    "colab_type": "code",
    "id": "wJThLh_6OvM1"
   },
   "outputs": [],
   "source": [
    "## Whenever we want to use data, we declare and assign it to a \"variable\", in this case, my_city\n",
    "\n",
    "my_city = \"New York\""
   ]
  },
  {
   "cell_type": "code",
   "execution_count": null,
   "metadata": {
    "colab": {},
    "colab_type": "code",
    "id": "ipQO5utuOvM3"
   },
   "outputs": [],
   "source": [
    "current_floor = 6"
   ]
  },
  {
   "cell_type": "markdown",
   "metadata": {
    "colab_type": "text",
    "id": "d3oMhfGoOvM6"
   },
   "source": [
    "Above, we've defined two variables. The \"single equals\" sign performs an assignment operation. One way to think of this is:\n",
    "\n",
    "\n",
    "> \"The variable 'current_floor' *gets* the value 6\".\n",
    "\n",
    "\n",
    "\n",
    "Notice that the actual data (right-side of the equals sign) is being highlighted in different colors across the two variables. This is happening because one variable contains text, or **string** data, while the other contains a number (an **integer**)\n",
    "\n",
    "These are two of the essential \"data types\".\n"
   ]
  },
  {
   "cell_type": "code",
   "execution_count": null,
   "metadata": {
    "colab": {},
    "colab_type": "code",
    "id": "ln9ZXKgAOvM7"
   },
   "outputs": [],
   "source": [
    "## For instance, say we are currently on floor 6 of this building, but\n",
    "## we know that after this tutorial is finished, there's a book we want\n",
    "## to check out, and it's on the ninth floor.\n",
    "\n",
    "destination_floor = 9"
   ]
  },
  {
   "cell_type": "code",
   "execution_count": null,
   "metadata": {
    "colab": {},
    "colab_type": "code",
    "id": "NtTDSMK9OvM9"
   },
   "outputs": [],
   "source": [
    "## We can figure out how many floors we'll have to travel to get there\n",
    "\n",
    "floors_I_need_to_walk = destination_floor - current_floor"
   ]
  },
  {
   "cell_type": "code",
   "execution_count": null,
   "metadata": {
    "colab": {},
    "colab_type": "code",
    "id": "5GdsaK_sOvM_"
   },
   "outputs": [],
   "source": [
    "print(floors_I_need_to_walk)"
   ]
  },
  {
   "cell_type": "markdown",
   "metadata": {
    "colab_type": "text",
    "id": "FLHd5ejF5nGv"
   },
   "source": [
    "Using variables allows us to write generalized code that can serve as a formula, even as the specific values saved in these variables change."
   ]
  },
  {
   "cell_type": "markdown",
   "metadata": {
    "colab_type": "text",
    "id": "Y5HgPbSxz8bm"
   },
   "source": [
    "### List of data types\n",
    "\n",
    "\n",
    "*   string : `\"Hello there\"`\n",
    "*   boolean (true/false) : `True`\n",
    "*   integer : `4`\n",
    "*   decimal (float) : `4.0`\n",
    "\n",
    "Different operations are defined for each data type. For instance, you can *negate* any boolean value (turn a `True` into a `False`, or vice versa); you can *concatenate* strings together; you can *add* or *subtract* integers and decimals.\n",
    "\n",
    "You can check the type of any data using the `type()` function\n",
    "\n",
    "\n",
    "\n",
    "\n",
    "\n",
    "\n",
    "\n"
   ]
  },
  {
   "cell_type": "code",
   "execution_count": null,
   "metadata": {
    "colab": {},
    "colab_type": "code",
    "id": "BkWzf2kj07qK"
   },
   "outputs": [],
   "source": [
    "type(4)"
   ]
  },
  {
   "cell_type": "code",
   "execution_count": null,
   "metadata": {},
   "outputs": [],
   "source": [
    "type(\"Hello\")"
   ]
  },
  {
   "cell_type": "code",
   "execution_count": null,
   "metadata": {},
   "outputs": [],
   "source": [
    "type(floors_I_need_to_walk)"
   ]
  },
  {
   "cell_type": "markdown",
   "metadata": {
    "colab_type": "text",
    "id": "qdS5EHCDptCb"
   },
   "source": [
    "### Reserved Keywords\n",
    "\n",
    "\n",
    "In Python, some words are \"reserved\" and cannot be used as names for variables or functions (identifiers).\n",
    "\n",
    "For instance, the word `True`, when it does not appear within quotation marks, will always evaluate to the _value_ **True** (and similar for `False`). Other reserved tokens are those that comprise the actual language, such as `if`, `else`, `return`, and so on.\n",
    "\n",
    "https://www.programiz.com/python-programming/keyword-list\n"
   ]
  },
  {
   "cell_type": "code",
   "execution_count": null,
   "metadata": {
    "colab": {},
    "colab_type": "code",
    "id": "542xgOqlrphD"
   },
   "outputs": [],
   "source": [
    "True"
   ]
  },
  {
   "cell_type": "code",
   "execution_count": null,
   "metadata": {
    "colab": {},
    "colab_type": "code",
    "id": "PfOBYjM2rr7M"
   },
   "outputs": [],
   "source": [
    "var1 = 10\n",
    "var2 = \"Hey!\"\n",
    "True = 3.4 ## Doesn't work!\n"
   ]
  },
  {
   "cell_type": "code",
   "execution_count": null,
   "metadata": {
    "colab": {},
    "colab_type": "code",
    "id": "3pP-40r_r2B4"
   },
   "outputs": [],
   "source": [
    "## This, however, is completely fine...\n",
    "\n",
    "var3 = True \n",
    "var3"
   ]
  },
  {
   "cell_type": "markdown",
   "metadata": {
    "colab_type": "text",
    "id": "BfOoDNmYRtRk"
   },
   "source": [
    "# Conditional Statements\n",
    "\n",
    "\n",
    "Conditional if-statements are a very big part of programing with any language. We can think about it first using some pseudocode:\n",
    "\n",
    "```\n",
    "if ( it is raining outside ):\n",
    "  grab an umbrella before leaving\n",
    "else:\n",
    "  leave the umbrella at home\n",
    "```\n",
    "\n",
    "Conditional statements are a way to specify sections of code that should be executed only when a condition is true. You can think of the if and else lines as being gatekeepers to the code that exists right below them.\n"
   ]
  },
  {
   "cell_type": "code",
   "execution_count": null,
   "metadata": {
    "colab": {},
    "colab_type": "code",
    "id": "lG1pLhNWR53E"
   },
   "outputs": [],
   "source": [
    "## Only when the condition between the parentheses evaluates to True do we\n",
    "## evaluate the associated code in the body\n",
    "\n",
    "iHaveMoney = False\n",
    "\n",
    "if iHaveMoney:\n",
    "    print(\"I will buy ice cream!\")\n",
    "else:\n",
    "    print(\"I can't buy ice cream.\")"
   ]
  },
  {
   "cell_type": "code",
   "execution_count": null,
   "metadata": {
    "colab": {},
    "colab_type": "code",
    "id": "nJaqlUbkvwQH"
   },
   "outputs": [],
   "source": [
    "friendHasMoney = False\n",
    "\n",
    "if iHaveMoney or friendHasMoney:\n",
    "    print(\"We will buy ice cream!\")\n",
    "else:\n",
    "    print(\"We can't buy ice cream.\")"
   ]
  },
  {
   "cell_type": "markdown",
   "metadata": {
    "colab_type": "text",
    "id": "XNuZHRJJQhg6"
   },
   "source": [
    "Multiple conditional statements can be written between the paranthesis, joined by the words \"or\" and \"and\". These words are logical operators in Python.\n",
    "\n",
    "As long as the statement within the paranthesis evaluates to a logical value (i.e., either **True** or **False**), it can be used within an if-statement."
   ]
  },
  {
   "cell_type": "code",
   "execution_count": null,
   "metadata": {
    "colab": {},
    "colab_type": "code",
    "id": "QYYMjWs2QlR8"
   },
   "outputs": [],
   "source": [
    " 3 > 5 and 3 > 1 "
   ]
  },
  {
   "cell_type": "code",
   "execution_count": null,
   "metadata": {
    "colab": {},
    "colab_type": "code",
    "id": "TBKREkvgvsAR"
   },
   "outputs": [],
   "source": [
    " 3 > 5 or 3 > 1 "
   ]
  },
  {
   "cell_type": "markdown",
   "metadata": {
    "colab_type": "text",
    "id": "qF_tt1_ETDxE"
   },
   "source": [
    "Statements on *both* sides of an \"and\" must evaluate to `True` for the interpreter to enter the body of code following it.\n",
    "\n",
    "### Challenge 1\n",
    "\n",
    "```python\n",
    "if True or False:\n",
    "  print(\"A\")\n",
    "  \n",
    "if True and False:\n",
    "  print(\"B\")\n",
    "  \n",
    "```\n",
    "\n",
    "What will be printed as a result of running the above code block?\n",
    "\n",
    "\n",
    "1.    A\n",
    "\n",
    "      B\n",
    "      \n",
    "2.    A\n",
    "3.    B\n",
    "4.    \n"
   ]
  },
  {
   "cell_type": "code",
   "execution_count": null,
   "metadata": {
    "colab": {},
    "colab_type": "code",
    "id": "ld0iPUErV0k9"
   },
   "outputs": [],
   "source": [
    "## Try it out!\n",
    "\n",
    "if True or False:\n",
    "    print(\"A\")\n",
    "    \n",
    "if True and False:\n",
    "    print(\"B\")"
   ]
  },
  {
   "cell_type": "code",
   "execution_count": null,
   "metadata": {
    "colab": {},
    "colab_type": "code",
    "id": "2ogx6Lm57Q0B"
   },
   "outputs": [],
   "source": [
    "## Testing equality\n",
    "\n",
    "print( 3 == (4 - 1) )\n",
    "\n",
    "## use the double equals to test equality, since single equals\n",
    "## is only used for assigning values\n",
    "\n",
    "print( 3 != (4 - 1) )\n",
    "\n",
    "## the != operator means 'not equal'"
   ]
  },
  {
   "cell_type": "code",
   "execution_count": null,
   "metadata": {
    "colab": {},
    "colab_type": "code",
    "id": "8C9BvG2VuvkJ"
   },
   "outputs": [],
   "source": [
    "hour = 10\n",
    "if hour > 7 and hour <= 12:\n",
    "    print(\"Good morning!\")\n",
    "elif hour > 12 and hour <= 18:\n",
    "    print(\"Good afternoon!\")\n",
    "elif hour > 18 and hour <= 22:\n",
    "    print(\"Good evening!\")\n",
    "else:\n",
    "    print(\"You're too late or too early!\")\n"
   ]
  },
  {
   "cell_type": "markdown",
   "metadata": {
    "colab_type": "text",
    "id": "D6-FYlzH7Rul"
   },
   "source": [
    "### Nesting if-statements\n",
    "\n",
    "If-statements can be arbitrarily nested in your code:"
   ]
  },
  {
   "cell_type": "code",
   "execution_count": null,
   "metadata": {
    "colab": {},
    "colab_type": "code",
    "id": "b-WYmycv7Ufu"
   },
   "outputs": [],
   "source": [
    "## For this example, we'll import a function that generates random values\n",
    "from random import *\n",
    "\n",
    "## Here we use the random number generator to find some value\n",
    "## between 0 and 1\n",
    "random_number = random()\n",
    "print(\"My random number is: \" + str(random_number))"
   ]
  },
  {
   "cell_type": "code",
   "execution_count": null,
   "metadata": {
    "colab": {},
    "colab_type": "code",
    "id": "LKtHyx3174B3"
   },
   "outputs": [],
   "source": [
    "if random_number < 0.5:\n",
    "    print(\"The number is less than .5\")\n",
    "    if random_number < 0.25:\n",
    "        print(\"... in fact, it's even less than .25\")\n",
    "else:\n",
    "    print(\"The number is greater than (or equal to) .5\")"
   ]
  },
  {
   "cell_type": "markdown",
   "metadata": {
    "colab_type": "text",
    "id": "2yhgt-2C7f1N"
   },
   "source": [
    "[Click here for an illustration](https://docs.google.com/drawings/d/1ql_x12TyNqkylYqe_tFrqJwbPGgC49qZ8I5wbv2eOtg/edit) of the logic in the if-statement above."
   ]
  },
  {
   "cell_type": "markdown",
   "metadata": {
    "colab_type": "text",
    "id": "OPLlevAm7GLB"
   },
   "source": [
    "What is the difference between Else-If and Nested If statements?"
   ]
  },
  {
   "cell_type": "markdown",
   "metadata": {
    "colab_type": "text",
    "id": "WCbLDsLCOvNC"
   },
   "source": [
    "# Essential Data Structures\n",
    "\n",
    "## Lists"
   ]
  },
  {
   "cell_type": "code",
   "execution_count": null,
   "metadata": {
    "colab": {},
    "colab_type": "code",
    "id": "DD3u2SlLOvND"
   },
   "outputs": [],
   "source": [
    "## Let's say I'm teaching a tutorial, and I want to save the names of all of my students\n",
    "\n",
    "## One way is to create a variable for each one, and save one name per variable\n",
    "\n",
    "student_1 = \"Alice\"\n",
    "student_2 = \"Xiaojing\"\n",
    "student_3 = \"Frank\"\n",
    "\n",
    "## This works ok... but it makes more sense to keep a single list!\n",
    "\n",
    "my_students = [\"Alice\", \"Xiaojing\", \"Frank\", \"George\", \"Amy\", \"Anita\"]"
   ]
  },
  {
   "cell_type": "code",
   "execution_count": null,
   "metadata": {
    "colab": {},
    "colab_type": "code",
    "id": "-dtvfbieOvNG"
   },
   "outputs": [],
   "source": [
    "my_students"
   ]
  },
  {
   "cell_type": "markdown",
   "metadata": {
    "colab_type": "text",
    "id": "3VokaS8Om8iF"
   },
   "source": [
    "*Elements* within a list can be accessed by their *index number*\n",
    "\n",
    "*Index numbers* start at index 0, meaning that the first element in the list is at element 0"
   ]
  },
  {
   "cell_type": "code",
   "execution_count": null,
   "metadata": {
    "colab": {},
    "colab_type": "code",
    "id": "QF5Ym8JlOvNJ"
   },
   "outputs": [],
   "source": [
    "## You access elements of a list using this notation\n",
    "\n",
    "my_students[0] \n",
    "my_students[1]\n",
    "\n",
    "## You can even use an expression in the place of the index, as long\n",
    "## as that expression turns into a valid index\n",
    "\n",
    "my_index = 1 + 2\n",
    "print(my_students[my_index])\n"
   ]
  },
  {
   "cell_type": "code",
   "execution_count": null,
   "metadata": {
    "colab": {},
    "colab_type": "code",
    "id": "gp67tx8qNNuw"
   },
   "outputs": [],
   "source": [
    "my_students[0:3] ## Take a subset of the list, starting at 0, stopping before 3"
   ]
  },
  {
   "cell_type": "code",
   "execution_count": null,
   "metadata": {
    "colab": {},
    "colab_type": "code",
    "id": "yFV_S7r-KQfy"
   },
   "outputs": [],
   "source": [
    "my_students[-1] ## Access the list from the right (the end of it) using a negative index"
   ]
  },
  {
   "cell_type": "code",
   "execution_count": null,
   "metadata": {
    "colab": {},
    "colab_type": "code",
    "id": "sBvc9uAEBQ8m"
   },
   "outputs": [],
   "source": [
    "my_students[::2] ## Step through 2 at a time"
   ]
  },
  {
   "cell_type": "code",
   "execution_count": null,
   "metadata": {
    "colab": {},
    "colab_type": "code",
    "id": "NCEJHTefBc8W"
   },
   "outputs": [],
   "source": [
    "my_students[::-1] ## Reverse the list"
   ]
  },
  {
   "cell_type": "markdown",
   "metadata": {
    "colab_type": "text",
    "id": "OtDAeKT-BmqW"
   },
   "source": [
    "Note: we reversed the list above, but what happens when you look at the value of `my_students` again?"
   ]
  },
  {
   "cell_type": "code",
   "execution_count": null,
   "metadata": {
    "colab": {},
    "colab_type": "code",
    "id": "xS2X9otJBdec"
   },
   "outputs": [],
   "source": [
    "my_students"
   ]
  },
  {
   "cell_type": "code",
   "execution_count": null,
   "metadata": {
    "colab": {},
    "colab_type": "code",
    "id": "tCAFumtKNNr6"
   },
   "outputs": [],
   "source": [
    "my_students.append(\"Jacob\") ## Add a value to the end of a list\n",
    "\n",
    "my_students"
   ]
  },
  {
   "cell_type": "code",
   "execution_count": null,
   "metadata": {
    "colab": {},
    "colab_type": "code",
    "id": "BUTc20Zw_3Ee"
   },
   "outputs": [],
   "source": [
    "my_students.pop(2) # remove element by index\n",
    "my_students"
   ]
  },
  {
   "cell_type": "code",
   "execution_count": null,
   "metadata": {
    "colab": {},
    "colab_type": "code",
    "id": "Ub9JONbGRhS_"
   },
   "outputs": [],
   "source": [
    "late_registrations = [ 'Sally', 'Jose' ]\n",
    "\n",
    "## Here we are concatenating two lists\n",
    "## The `+` sign means addition for integers, but on lists it means concatenate\n",
    "\n",
    "print(my_students + late_registrations)\n",
    "print(my_students)"
   ]
  },
  {
   "cell_type": "code",
   "execution_count": null,
   "metadata": {
    "colab": {},
    "colab_type": "code",
    "id": "LusFD-9jCP41"
   },
   "outputs": [],
   "source": [
    "my_list = my_students.copy()\n",
    "print(my_list)\n",
    "my_list.append(late_registrations)\n",
    "print(my_list)\n",
    "print(my_students+late_registrations)"
   ]
  },
  {
   "cell_type": "code",
   "execution_count": null,
   "metadata": {
    "colab": {},
    "colab_type": "code",
    "id": "oXGohNUTEeQb"
   },
   "outputs": [],
   "source": [
    "## We are saving the result back to the variable called `my_students`\n",
    "my_students = my_students + late_registrations"
   ]
  },
  {
   "cell_type": "code",
   "execution_count": null,
   "metadata": {
    "colab": {},
    "colab_type": "code",
    "id": "sXZRhFFabGUs"
   },
   "outputs": [],
   "source": [
    "## Checking the length of a list\n",
    "len(my_students)"
   ]
  },
  {
   "cell_type": "markdown",
   "metadata": {
    "colab_type": "text",
    "id": "q_aM8kco9Xp7"
   },
   "source": [
    "### Testing membership of a list"
   ]
  },
  {
   "cell_type": "code",
   "execution_count": null,
   "metadata": {
    "colab": {},
    "colab_type": "code",
    "id": "hEPDl4QE9dd4"
   },
   "outputs": [],
   "source": [
    "if 'Anita' in my_students:\n",
    "    print(\"What's up Anita!\")\n",
    "else:\n",
    "    print(\"Oh, is Anita not in this class?\")"
   ]
  },
  {
   "cell_type": "markdown",
   "metadata": {
    "colab_type": "text",
    "id": "74DnKHwFm6om"
   },
   "source": [
    "## Challenge 2\n",
    "### Write some code that picks a student from your list `my_students` at random\n",
    "\n",
    "Hint: you can always round down a decimal number to an integer with the `int(x)` function:\n",
    "```python\n",
    "int( 4.6 ) ## this equals 4\n",
    "```\n"
   ]
  },
  {
   "cell_type": "code",
   "execution_count": null,
   "metadata": {
    "colab": {},
    "colab_type": "code",
    "id": "hKgKiMgwndh3"
   },
   "outputs": [],
   "source": [
    "my_students"
   ]
  },
  {
   "cell_type": "markdown",
   "metadata": {
    "colab_type": "text",
    "id": "nRMaDBHoMz39"
   },
   "source": [
    "## Dictionaries\n",
    "\n",
    "While lists are a great way to store any sort of ordered data that it makes sense to access via a numerical index, sometimes we want to find pieces of data based on other types of input, such as a string.\n",
    "\n",
    "Another way to put this is that, given some **key**, we want to find the coresponding **value**.\n",
    "\n",
    "For example, it might be easier to keep my dataset of students in a form where I can find someone's name given their NYU net id."
   ]
  },
  {
   "cell_type": "code",
   "execution_count": null,
   "metadata": {
    "colab": {},
    "colab_type": "code",
    "id": "3TrI99z9PMV8"
   },
   "outputs": [],
   "source": [
    "netid_students = {\n",
    "    \"az123\": \"Alice\",\n",
    "    \"xa746\": \"Xiaojing\",\n",
    "    \"fj32\" : \"Frank\",\n",
    "    \"gm330\": \"George\",\n",
    "    \"aa21\" : \"Amy\",\n",
    "    \"ar987\": \"Anita\",\n",
    "    \"g3745\": \"George\"\n",
    "}\n",
    "\n",
    "## Now we can retrieve a name by using a netID as a key\n",
    "print(netid_students['aa21'])"
   ]
  },
  {
   "cell_type": "markdown",
   "metadata": {
    "colab_type": "text",
    "id": "7miCrfExPzp4"
   },
   "source": [
    "We can actually store anything we want as values in a dictionary, including lists, strings, numbers, or even other dictionaries.\n",
    "\n",
    "### Using dictionaries as records\n",
    "\n",
    "Often, people use dictionaries to store different types of information about whatever they are trying to model:"
   ]
  },
  {
   "cell_type": "code",
   "execution_count": null,
   "metadata": {
    "colab": {},
    "colab_type": "code",
    "id": "tiIebxTJa5z3"
   },
   "outputs": [],
   "source": [
    "student1 = {\n",
    "    \"name\" : \"Alice\",\n",
    "    \"netid\": \"az123\",\n",
    "    \"currently_enrolled\": True,\n",
    "    \"credits_completed\": 32,\n",
    "    \"school\": \"GSAS\",\n",
    "    \"enrolled_in\": [\"Intro to Python\", \"Fundamental Algorithms\"]\n",
    "}\n",
    "\n",
    "student2 = {\n",
    "    \"name\" : \"Xiaojing\",\n",
    "    \"netid\": \"xa746\",\n",
    "    \"currently_enrolled\": True,\n",
    "    \"credits_completed\": 16,\n",
    "    \"school\": \"Wagner\",\n",
    "    \"enrolled_in\": [\n",
    "        \"Intro to Python\",\n",
    "        \"Natural Language Processing\",\n",
    "        \"Urban Planning\",\n",
    "        \"Shakespeare\"]\n",
    "}\n",
    "\n",
    "student_profiles = [student1, student2]"
   ]
  },
  {
   "cell_type": "markdown",
   "metadata": {
    "colab_type": "text",
    "id": "doG5282gAP5B"
   },
   "source": [
    "# Loops\n"
   ]
  },
  {
   "cell_type": "markdown",
   "metadata": {
    "colab_type": "text",
    "id": "XCuDeolknhD5"
   },
   "source": [
    "Looping is one of the most fundamental operations in programming, but can be tricky to learn for the first time. Python has several ways of performing loops."
   ]
  },
  {
   "cell_type": "code",
   "execution_count": null,
   "metadata": {
    "colab": {},
    "colab_type": "code",
    "id": "xBX3TOUbqF5K"
   },
   "outputs": [],
   "source": [
    "print(my_students)"
   ]
  },
  {
   "cell_type": "code",
   "execution_count": null,
   "metadata": {
    "colab": {},
    "colab_type": "code",
    "id": "L3bujhprnhbk"
   },
   "outputs": [],
   "source": [
    "## Print each element of a list\n",
    "for student_name in my_students:\n",
    "    print(student_name)"
   ]
  },
  {
   "cell_type": "markdown",
   "metadata": {
    "colab_type": "text",
    "id": "jwFlZDzZSXl-"
   },
   "source": [
    "What's happening in the above example? The line `for student_name in my_students:` defines a **loop** through every element in `my_students`.\n",
    "\n",
    "Each element gets assigned to the temporary variable `student_name`, and then the body of the loop is executed; in this case, the body is only printing the value of that temporary name.\n",
    "\n",
    "Also notice that the line `print(student_name)` is indented. This is an aspect of Python –– the body of any loop, conditional, or function definition always needs to be indented."
   ]
  },
  {
   "cell_type": "code",
   "execution_count": null,
   "metadata": {
    "colab": {},
    "colab_type": "code",
    "id": "Tuj-cv0oSxCD"
   },
   "outputs": [],
   "source": [
    "## We use a function to automatically create a list of numbers, starting at 0,\n",
    "## and ending at 19\n",
    "my_numbers = list(range(0,20))\n",
    "\n",
    "my_numbers"
   ]
  },
  {
   "cell_type": "code",
   "execution_count": null,
   "metadata": {
    "colab": {},
    "colab_type": "code",
    "id": "ly0rgOPtSXOz"
   },
   "outputs": [],
   "source": [
    "for number in my_numbers:\n",
    "    if number == 5:\n",
    "        print(\"Hey, I love 5!\")\n",
    "    else:\n",
    "        print(number)"
   ]
  },
  {
   "cell_type": "markdown",
   "metadata": {
    "colab_type": "text",
    "id": "dyw8rd8KTd0m"
   },
   "source": [
    "Not only can we loop through lists, we can loop through dictionaries. With lists, we loop through them one element at a time (as seen above). Looping through dictionaries is slightly different –– we iterate through it one **key-value** pair at a time:"
   ]
  },
  {
   "cell_type": "code",
   "execution_count": null,
   "metadata": {
    "colab": {},
    "colab_type": "code",
    "id": "P4r2_CGtTdoS"
   },
   "outputs": [],
   "source": [
    "## Notice that in order to loop through a dictionary's key-value pairs, we have\n",
    "## to append .items() to the name of the dictionary\n",
    "\n",
    "for netid, name in netid_students.items():\n",
    "    print(\"The student with netid: \" + netid + \" has the first name \" + name)"
   ]
  },
  {
   "cell_type": "code",
   "execution_count": null,
   "metadata": {
    "colab": {},
    "colab_type": "code",
    "id": "Md-DRJwWqQt3"
   },
   "outputs": [],
   "source": [
    "print(student_profiles)"
   ]
  },
  {
   "cell_type": "code",
   "execution_count": null,
   "metadata": {
    "colab": {},
    "colab_type": "code",
    "id": "hYiSP1B2cUeQ"
   },
   "outputs": [],
   "source": [
    "## Looping through a list that contains dictonaries\n",
    "\n",
    "for student in student_profiles:\n",
    "    if \"Fundamental Algorithms\" in student['enrolled_in']:\n",
    "        print(student['name'])"
   ]
  },
  {
   "cell_type": "markdown",
   "metadata": {
    "colab_type": "text",
    "id": "jlP1ls9hZRgI"
   },
   "source": [
    "We can also loop indefinitely, as long as some constraint remains true, using a **while-loop**:"
   ]
  },
  {
   "cell_type": "code",
   "execution_count": null,
   "metadata": {
    "colab": {},
    "colab_type": "code",
    "id": "oxbZnsS1TY8K"
   },
   "outputs": [],
   "source": [
    "x = 0\n",
    "while x < 100:\n",
    "    print(x)\n",
    "    x = x + 10\n",
    "    ## Don't forget to update the value of x or you will be stuck in\n",
    "    ## an infinite loop!"
   ]
  },
  {
   "cell_type": "markdown",
   "metadata": {
    "colab_type": "text",
    "id": "fPMa-Jsi1r2c"
   },
   "source": [
    "In general, while-loops are helpful for performing some activity when you don't know before you start how many times the loop will need to run. For-loops are helpful in cases when you do know exactly how many times you want it to run."
   ]
  },
  {
   "cell_type": "markdown",
   "metadata": {
    "colab_type": "text",
    "id": "BZNEbyA9ZsST"
   },
   "source": [
    "Text strings are simply lists of characters, so you can loop through them as well:"
   ]
  },
  {
   "cell_type": "markdown",
   "metadata": {
    "colab_type": "text",
    "id": "99cNv4FXZ2jf"
   },
   "source": [
    "What does this do?\n",
    "```\n",
    "word = 'lead'\n",
    "for char in word:\n",
    "    print(char)\n",
    "\n",
    "(a) char\n",
    "(b) lead\n",
    "(c)     lead\n",
    "(d) aaaa\n",
    "(e) rrrr\n",
    "(f) l\n",
    "    e\n",
    "    a\n",
    "    d\n",
    " ```"
   ]
  },
  {
   "cell_type": "markdown",
   "metadata": {
    "colab_type": "text",
    "id": "X51RCiutQXtX"
   },
   "source": [
    "# Working With Strings\n",
    "\n",
    "Python comes with many pre-defined functions that work on text strings. Combined with the ability to traverse through a string using loops (as shown above), there are tons ways to work with text."
   ]
  },
  {
   "cell_type": "code",
   "execution_count": null,
   "metadata": {
    "colab": {},
    "colab_type": "code",
    "id": "ajUqXY64aSkd"
   },
   "outputs": [],
   "source": [
    "## Convert text to all lowercase or uppercase\n",
    "\n",
    "my_string = \"Hello World!\"\n",
    "\n",
    "print(my_string)\n",
    "print(my_string.lower())\n",
    "print(my_string.upper())"
   ]
  },
  {
   "cell_type": "code",
   "execution_count": null,
   "metadata": {
    "colab": {},
    "colab_type": "code",
    "id": "WyyFOuXWpeq_"
   },
   "outputs": [],
   "source": [
    "## Split a string\n",
    "\n",
    "intro_text = (\"Python is a widely used high-level programming language for general-purpose programming, \"\n",
    "              \"created by Guido van Rossum and first released in 1991.\")\n",
    "\n",
    "tokens = intro_text.split(\" \") ## Here, we split on the whitespace character\n",
    "tokens ## We end up with a list of tokens"
   ]
  },
  {
   "cell_type": "code",
   "execution_count": null,
   "metadata": {
    "colab": {},
    "colab_type": "code",
    "id": "Fc-OPH8daALE"
   },
   "outputs": [],
   "source": [
    "## Joining a list into a string\n",
    "## (the reverse of a split!)\n",
    "\n",
    "print(\" \".join(tokens))\n",
    "\n",
    "print(\", \".join(my_students))"
   ]
  },
  {
   "cell_type": "code",
   "execution_count": null,
   "metadata": {
    "colab": {},
    "colab_type": "code",
    "id": "xy5SZW1CqJ6R"
   },
   "outputs": [],
   "source": [
    "## Making substitutions with replace()\n",
    "addresses = \"124 Fake St., 325 Broadway Ave., 718 Washington Ave., 70 W. 4th St.\"\n",
    "print(addresses)\n",
    "\n",
    "normalized_addresses = addresses.replace(\"St.\",\"Street\").replace(\"Ave.\",\"Avenue\")\n",
    "print(normalized_addresses)\n"
   ]
  },
  {
   "cell_type": "code",
   "execution_count": null,
   "metadata": {
    "colab": {},
    "colab_type": "code",
    "id": "hkhtmlAbZknz"
   },
   "outputs": [],
   "source": [
    "## Reversing a string\n",
    "print(normalized_addresses[::-1])\n",
    "## This uses the slice notation, with start and end set to the beginning and end\n",
    "## of the string, but the \"step\" parameter set to -1"
   ]
  },
  {
   "cell_type": "markdown",
   "metadata": {
    "colab_type": "text",
    "id": "4Tyof8w_eG6S"
   },
   "source": [
    "But what if our strings have quotes in them? How do we print a statement like this:\n",
    "> Wait, she's going to say \"Hello!\"\n",
    "\n"
   ]
  },
  {
   "cell_type": "code",
   "execution_count": null,
   "metadata": {
    "colab": {},
    "colab_type": "code",
    "id": "0jYHhLpceA_G"
   },
   "outputs": [],
   "source": [
    "print(\"Wait, she's going to say \\\"Hello!\\\"\")\n",
    "print('Wait, she\\'s going to say \"Hello!\"')\n",
    "print(\"\"\"Wait, she's going to say \"Hello!\" \"\"\")"
   ]
  },
  {
   "cell_type": "markdown",
   "metadata": {
    "colab_type": "text",
    "id": "u44JpCLVg2kO"
   },
   "source": [
    "Strings can be created in a number of different ways:\n",
    "\n",
    "```\n",
    "'single quotes'\n",
    "\"double quotes\"\n",
    "\"\"\" triple-double quotes \"\"\"  #This can contain line breaks!\n",
    "```\n",
    "or even like this:\n",
    "```\n",
    "''' triple-single \n",
    "    quotes '''\n",
    "```\n",
    "\n"
   ]
  },
  {
   "cell_type": "markdown",
   "metadata": {
    "colab_type": "text",
    "id": "JjrK65OoniFn"
   },
   "source": [
    "# Functions\n"
   ]
  },
  {
   "cell_type": "markdown",
   "metadata": {
    "colab_type": "text",
    "id": "XbWDq-C6nlid"
   },
   "source": [
    "A user may want to define a function for a sequence of calculations needed to be executed at multiple different places in code. Functions make programming more concise and can serve as a great tool for the user writing code. \n"
   ]
  },
  {
   "cell_type": "markdown",
   "metadata": {
    "colab_type": "text",
    "id": "8AovNQsIrDca"
   },
   "source": [
    "Functions are defined with the following syntax:  \n"
   ]
  },
  {
   "cell_type": "code",
   "execution_count": null,
   "metadata": {
    "colab": {},
    "colab_type": "code",
    "id": "B7T32_1vnl5Q"
   },
   "outputs": [],
   "source": [
    "def fun(x):\n",
    "    print(x)"
   ]
  },
  {
   "cell_type": "markdown",
   "metadata": {
    "colab_type": "text",
    "id": "48IF5fiNrLeC"
   },
   "source": [
    "\tdef   tells Python that you are writing a function definition. This line of code is also followed by a colon\n",
    "\tfun     is the name of the function so that the user can call the function later on\n",
    "\tx     within the parenthesis are parameters passed into the function to be used "
   ]
  },
  {
   "cell_type": "markdown",
   "metadata": {
    "colab_type": "text",
    "id": "Rr2wf5WuwYQ9"
   },
   "source": [
    " The proceeding lines of code are the body of a function and should be indented\n"
   ]
  },
  {
   "cell_type": "code",
   "execution_count": null,
   "metadata": {
    "colab": {},
    "colab_type": "code",
    "id": "FlqZRQk2wOLL"
   },
   "outputs": [],
   "source": [
    "##Suppose we have the following String variables\n",
    "x = \"You just called a function on x\"\n",
    "y = \"You just called a function on y\""
   ]
  },
  {
   "cell_type": "code",
   "execution_count": null,
   "metadata": {
    "colab": {},
    "colab_type": "code",
    "id": "2eq8TMccw9I3"
   },
   "outputs": [],
   "source": [
    "##We can call our function f on each x and y\n",
    "fun(y)\n",
    "fun(x)"
   ]
  },
  {
   "cell_type": "markdown",
   "metadata": {
    "colab_type": "text",
    "id": "FaZOB8A6xjSv"
   },
   "source": [
    "\n",
    "Notice how function f simply prints the parameter we pass in. Alternatively, functions can have a return value, which is something that may be retrieved or calculated within the function\n"
   ]
  },
  {
   "cell_type": "code",
   "execution_count": null,
   "metadata": {
    "colab": {},
    "colab_type": "code",
    "id": "2O0EAHIOxuc2"
   },
   "outputs": [],
   "source": [
    "##Suppose we have a function that adds 5 to a given integer\n",
    "def addFive(x):\n",
    "    x = x + 5  #In this line, we are assigning a new value to x\n",
    "    return x   #Return is what the function will give back"
   ]
  },
  {
   "cell_type": "code",
   "execution_count": null,
   "metadata": {
    "colab": {},
    "colab_type": "code",
    "id": "m1fx2T_ox42_"
   },
   "outputs": [],
   "source": [
    "##Now let's call addFive on an integer 5\n",
    "addFive(50)"
   ]
  },
  {
   "cell_type": "code",
   "execution_count": null,
   "metadata": {
    "colab": {},
    "colab_type": "code",
    "id": "QVtFtDH4zZkR"
   },
   "outputs": [],
   "source": [
    "##What does this return?\n",
    "5 + addFive(5)"
   ]
  },
  {
   "cell_type": "code",
   "execution_count": null,
   "metadata": {
    "colab": {},
    "colab_type": "code",
    "id": "Za-1zfDsyXn3"
   },
   "outputs": [],
   "source": [
    "##What does this return?\n",
    "addFive(addFive(5))"
   ]
  },
  {
   "cell_type": "markdown",
   "metadata": {
    "colab_type": "text",
    "id": "GuDEMX_9ylTy"
   },
   "source": [
    "Functions can be nested, and are evaluated from inside to out when implemented so"
   ]
  },
  {
   "cell_type": "code",
   "execution_count": null,
   "metadata": {
    "colab": {},
    "colab_type": "code",
    "id": "3rqxXIYO0hMS"
   },
   "outputs": [],
   "source": [
    "##Let's say I want a function that adds 5 to only negative integers\n",
    "def add_to_negatives(x):\n",
    "    if (x < 0):\n",
    "        return x + 5\n",
    "    else:\n",
    "        return x"
   ]
  },
  {
   "cell_type": "code",
   "execution_count": null,
   "metadata": {
    "colab": {},
    "colab_type": "code",
    "id": "7DXPS-lv1GpC"
   },
   "outputs": [],
   "source": [
    "##What is the output of calling\n",
    "add_to_negatives(-2) - add_to_negatives(3)"
   ]
  },
  {
   "cell_type": "markdown",
   "metadata": {
    "colab_type": "text",
    "id": "90dh1aTP1sHL"
   },
   "source": [
    "There is no rule to how complex a function definition should be, but the key is to have it concise so that it could be called on often"
   ]
  },
  {
   "cell_type": "code",
   "execution_count": null,
   "metadata": {
    "colab": {},
    "colab_type": "code",
    "id": "oHw3N3bM2NX4"
   },
   "outputs": [],
   "source": [
    "##Functions can be as simple as a check to see if a number has more than two digits\n",
    "def digits_check(x):\n",
    "    if (x > 99 or x < -99):\n",
    "        return True\n",
    "    else:\n",
    "        return False"
   ]
  },
  {
   "cell_type": "code",
   "execution_count": null,
   "metadata": {
    "colab": {},
    "colab_type": "code",
    "id": "eNe1YQHn2wqE"
   },
   "outputs": [],
   "source": [
    "digits_check(100)"
   ]
  },
  {
   "cell_type": "code",
   "execution_count": null,
   "metadata": {
    "colab": {},
    "colab_type": "code",
    "id": "iqQOjc3O2y0s"
   },
   "outputs": [],
   "source": [
    "digits_check(-88)"
   ]
  },
  {
   "cell_type": "code",
   "execution_count": null,
   "metadata": {
    "colab": {},
    "colab_type": "code",
    "id": "sgyMGFJFNExl"
   },
   "outputs": [],
   "source": [
    "# functions are re-usable pieces of code that can make your script more compact\n",
    "# functions also make it easier to compartmentalize the code\n",
    "def welcome_time(hour):\n",
    "    if hour > 7 and hour <= 12:\n",
    "        return('Good morning!')\n",
    "    elif hour > 12 and hour <= 18:\n",
    "        return('Good afternoon!')\n",
    "    elif hour > 18 and hour <= 22:\n",
    "        return('Good evening!')\n",
    "    else:\n",
    "        return('You\\'re too late or too early!')\n",
    "\n",
    "print(welcome_time(10))"
   ]
  },
  {
   "cell_type": "code",
   "execution_count": null,
   "metadata": {
    "colab": {},
    "colab_type": "code",
    "id": "qZr_rs8aOf7s"
   },
   "outputs": [],
   "source": [
    "def welcome(name,h):\n",
    "  print(welcome_time(h).replace('!',', ' + name + '!'))\n",
    "  \n",
    "welcome('Paul',10)\n",
    "welcome('Sally',20)\n",
    "welcome('Gene',5)"
   ]
  },
  {
   "cell_type": "markdown",
   "metadata": {
    "colab_type": "text",
    "id": "Og3WMT2NbZlZ"
   },
   "source": [
    "## (Group) Challenge 3\n",
    "\n",
    "**Background:** You're doing a project on linguistics and want a way to find all of the palindromes that commonly appear in pieces of literature. But where to begin???\n",
    "\n",
    "#### Part 1\n",
    "### Write a function, `is_palindrome(x)` that takes a single word (as a string) as input, and returns either `True` or `False` depending on if the input is a palindrome\n",
    "e.g.\n",
    "`is_palindrome(\"Hello world!\")` should return **`False`**.\n",
    "\n",
    "however, `is_palindrome(\"tacocat\")` should return **`True`**.\n",
    "\n"
   ]
  },
  {
   "cell_type": "code",
   "execution_count": null,
   "metadata": {
    "colab": {},
    "colab_type": "code",
    "id": "8cpOH-RwfR67"
   },
   "outputs": [],
   "source": [
    "def is_palindrome(input):\n",
    "    ## Fill this in!\n",
    "    return False\n"
   ]
  },
  {
   "cell_type": "markdown",
   "metadata": {
    "colab_type": "text",
    "id": "JIntgpDxlnjg"
   },
   "source": [
    "# Help and additional functions\n",
    "\n",
    "*   Python documentation, e.g. https://docs.python.org/3/library/math.html\n",
    "*   StackOverflow e.g. [calculate logarithm in python](https://www.google.com/search?q=calculate+logarithm+in+python): https://stackoverflow.com/questions/33754670/calculate-logarithm-in-python\n",
    "\n"
   ]
  },
  {
   "cell_type": "code",
   "execution_count": null,
   "metadata": {
    "colab": {},
    "colab_type": "code",
    "id": "zMEEoqV0n31H"
   },
   "outputs": [],
   "source": [
    "import math\n",
    "print(math.sqrt(256))\n",
    "print(math.log(100))\n",
    "print(math.log(100)/math.log(10))"
   ]
  },
  {
   "cell_type": "markdown",
   "metadata": {},
   "source": [
    "# Quick Last Things: Pandas\n",
    "\n",
    "#### Using Pandas...and NOT using Pandas\n",
    "\n",
    "Pandas can be a powerful tool, especially for those using it who have a background in other statistical software and are looking for a means to work with tabular data.\n",
    "\n",
    "It introduce a new object for \"holding\" data, the Pandas dataframe, akin to a two-dimensional matrix or spreadsheet table\n",
    "\n",
    "But it isn't the only (or in some cases even the best) means of dealing with data munging or data analysis in Python, particularly for large data. Its dataframes eat up memory, and can be inefficient with certain calculations.\n"
   ]
  },
  {
   "cell_type": "code",
   "execution_count": null,
   "metadata": {},
   "outputs": [],
   "source": [
    "import pandas as pd\n",
    "\n",
    "my_first_dataframe = pd.DataFrame([\n",
    "                                   [\"3/12/1965\",\"Student 1\", \"New York\"],\n",
    "                                   [\"4/8/1976\",\"Student 2\", \"Vermont\"],\n",
    "                                   [\"7/8/2000\", \"Student 3\", \"Hawaii\"]\n",
    "                                  ],\n",
    "    columns = [\"DOB\", \"Person\", \"Residence\"])\n",
    "\n",
    "my_first_dataframe"
   ]
  },
  {
   "cell_type": "markdown",
   "metadata": {},
   "source": [
    "# Loading a DataFrame\n",
    "\n",
    "We have several options for how to make a dataframe and start working in Pandas:\n",
    "\n",
    "1. We can load a tabular data file (e.g. a CSV) and allow Pandas to parse it as a dataframe\n",
    "\n",
    "2. We can instantiate an empty dataframe and append rows or columns in the form of Series objects\n",
    "\n",
    "3. We can transform a Python complex array (such as a list of lists or a list of dictionaries) into a dataframe\n",
    "\n",
    "No matter which approach is taken, I recommend taking some time to set the various parameters of the pd.DataFrame object so that your work on the dataframe later has expected results. This includes setting column names, column order, data types of variables, and (when reading from file) encoding."
   ]
  },
  {
   "cell_type": "code",
   "execution_count": null,
   "metadata": {},
   "outputs": [],
   "source": [
    "df_from_csv = pd.read_csv(\"water-consumption-nyc-csv-example.csv\", delimiter = \",\",\n",
    "                          header = 0, names = [\"Year\",\"NYC_Pop\", \"Consumption\",\"PerCapita_Consumption\"],\n",
    "                          dtype = {\"Year\":int, \"NYC_Pop\":int, \"Consumption\":int, \"PerCapita_Consumption\":int})\n",
    "\n",
    "# We can use .head() and .tail() to preview just a portion of a dataframe.\n",
    "# Pass as an optional parameter the number of rows you wish to see\n",
    "\n",
    "df_from_csv.head(5)"
   ]
  },
  {
   "cell_type": "markdown",
   "metadata": {},
   "source": [
    "### Pandas advantage example: super-complex filtering\n",
    "\n",
    "Using the .loc dataframe method, we can pass a filter using a condition set on the values in one of the columns"
   ]
  },
  {
   "cell_type": "code",
   "execution_count": null,
   "metadata": {},
   "outputs": [],
   "source": [
    "df_from_csv.loc[df_from_csv.Year < 1983]"
   ]
  },
  {
   "cell_type": "code",
   "execution_count": null,
   "metadata": {},
   "outputs": [],
   "source": [
    "## Much more complex example\n",
    "# Note that we use | (pipe) and & for \"OR\" and \"AND\" Booleans, respectively. We MUST use parentheses \n",
    "# to separate out each Boolean to be evaluated. \n",
    "\n",
    "df_from_csv.loc[(df_from_csv.Year < 1983) | (df_from_csv.Year == 1989)]\n"
   ]
  },
  {
   "cell_type": "markdown",
   "metadata": {
    "colab_type": "text",
    "id": "WffA5lTI6jDI"
   },
   "source": [
    "# Challenge Answers"
   ]
  },
  {
   "cell_type": "markdown",
   "metadata": {
    "colab_type": "text",
    "id": "LMus-V-MpCfZ"
   },
   "source": [
    "More python resources [here](https://guides.nyu.edu/python)"
   ]
  },
  {
   "cell_type": "markdown",
   "metadata": {
    "colab_type": "text",
    "id": "i4tdVLI56i9D"
   },
   "source": [
    "## Challenge 1\n",
    "\n",
    "The correct answer is 2: nothing is True and False at the same time"
   ]
  },
  {
   "cell_type": "markdown",
   "metadata": {
    "colab_type": "text",
    "id": "G9HOYR8M7Gdf"
   },
   "source": [
    "## Challenge 2\n",
    "\n",
    "* random() gives a floating point value between 0 and 1, not including 1\n",
    "* If there are 9 students, random() x 9 is a number between 0 and 9. \n",
    "* len(my_students) gives the number of elements in the list\n",
    "* int() rounds the number down\n"
   ]
  },
  {
   "cell_type": "code",
   "execution_count": null,
   "metadata": {
    "colab": {},
    "colab_type": "code",
    "id": "Sv3RAxH37eMi"
   },
   "outputs": [],
   "source": [
    "my_students[int(random()*len(my_students))]"
   ]
  },
  {
   "cell_type": "markdown",
   "metadata": {
    "colab_type": "text",
    "id": "sNoeacrB895q"
   },
   "source": [
    "## Challenge 3"
   ]
  },
  {
   "cell_type": "code",
   "execution_count": null,
   "metadata": {
    "colab": {},
    "colab_type": "code",
    "id": "36fX6n1_7mbn"
   },
   "outputs": [],
   "source": [
    "def is_palindrome(input):\n",
    "    if input == input[::-1]:\n",
    "      return True\n",
    "    else:\n",
    "      return False\n",
    "\n",
    "is_palindrome(\"tacocat\")"
   ]
  }
 ],
 "metadata": {
  "colab": {
   "collapsed_sections": [],
   "name": "introduction_to_python.ipynb",
   "private_outputs": true,
   "provenance": [],
   "toc_visible": true
  },
  "kernelspec": {
   "display_name": "Python 3",
   "language": "python",
   "name": "python3"
  },
  "language_info": {
   "codemirror_mode": {
    "name": "ipython",
    "version": 3
   },
   "file_extension": ".py",
   "mimetype": "text/x-python",
   "name": "python",
   "nbconvert_exporter": "python",
   "pygments_lexer": "ipython3",
   "version": "3.8.5"
  }
 },
 "nbformat": 4,
 "nbformat_minor": 1
}
